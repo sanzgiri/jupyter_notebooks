{
 "cells": [
  {
   "cell_type": "code",
   "execution_count": 20,
   "metadata": {
    "ExecuteTime": {
     "end_time": "2017-08-16T22:56:55.244844Z",
     "start_time": "2017-08-16T22:56:55.238324Z"
    },
    "collapsed": true
   },
   "outputs": [],
   "source": [
    "import autosklearn.classification\n",
    "import sklearn.model_selection\n",
    "import sklearn.datasets\n",
    "import sklearn.metrics"
   ]
  },
  {
   "cell_type": "code",
   "execution_count": 21,
   "metadata": {
    "ExecuteTime": {
     "end_time": "2017-08-16T22:56:55.976486Z",
     "start_time": "2017-08-16T22:56:55.971974Z"
    },
    "collapsed": true
   },
   "outputs": [],
   "source": [
    "from numerapi.numerapi import NumerAPI\n",
    "import os"
   ]
  },
  {
   "cell_type": "code",
   "execution_count": 22,
   "metadata": {
    "ExecuteTime": {
     "end_time": "2017-08-16T22:56:57.260402Z",
     "start_time": "2017-08-16T22:56:56.628068Z"
    },
    "collapsed": true
   },
   "outputs": [],
   "source": [
    "numerai_basedir = '/home/asanzgiri/numerai/'\n",
    "round = 69\n",
    "numerai_dir = numerai_basedir + 'round' + str(round)\n",
    "cmd = 'mkdir ' + numerai_dir\n",
    "if (os.path.exists(numerai_dir) == False):\n",
    "    cmd = 'mkdir ' + numerai_dir\n",
    "    res = os.system(cmd)\n",
    "    if (res != 0):\n",
    "        print(\"Error creating Numerai Directory\")"
   ]
  },
  {
   "cell_type": "code",
   "execution_count": 23,
   "metadata": {
    "ExecuteTime": {
     "end_time": "2017-08-16T22:57:02.393330Z",
     "start_time": "2017-08-16T22:56:58.084934Z"
    },
    "collapsed": true
   },
   "outputs": [],
   "source": [
    "napi = NumerAPI()\n",
    "napi.credentials = ('sanzgiri@gmail.com', 'xxxxxxxx')\n",
    "dnld = napi.download_current_dataset(dest_path=numerai_dir, unzip=True)\n",
    "if (dnld != 200):\n",
    "    print(\"Error downloading Numerai datasets\")"
   ]
  },
  {
   "cell_type": "code",
   "execution_count": 24,
   "metadata": {
    "ExecuteTime": {
     "end_time": "2017-08-16T22:57:03.192951Z",
     "start_time": "2017-08-16T22:57:03.187100Z"
    },
    "collapsed": true
   },
   "outputs": [],
   "source": [
    "train_file = numerai_dir + '/numerai_training_data.csv'\n",
    "test_file = numerai_dir + '/numerai_tournament_data.csv'"
   ]
  },
  {
   "cell_type": "code",
   "execution_count": 25,
   "metadata": {
    "ExecuteTime": {
     "end_time": "2017-08-16T22:57:06.681673Z",
     "start_time": "2017-08-16T22:57:05.232456Z"
    },
    "locked": false,
    "run_control": {
     "marked": false
    }
   },
   "outputs": [
    {
     "name": "stdout",
     "output_type": "stream",
     "text": [
      "Loading data...\n"
     ]
    }
   ],
   "source": [
    "import pandas as pd\n",
    "import numpy as np\n",
    "from sklearn import metrics, preprocessing, linear_model\n",
    "\n",
    "np.random.seed(0)\n",
    "\n",
    "print(\"Loading data...\")\n",
    "# Load the data from the CSV files\n",
    "training_data = pd.read_csv(train_file, header=0)\n",
    "prediction_data = pd.read_csv(test_file, header=0)"
   ]
  },
  {
   "cell_type": "code",
   "execution_count": 26,
   "metadata": {
    "ExecuteTime": {
     "end_time": "2017-08-16T22:57:09.658386Z",
     "start_time": "2017-08-16T22:57:09.490300Z"
    },
    "collapsed": true
   },
   "outputs": [],
   "source": [
    "features = [f for f in list(training_data) if \"feature\" in f]\n",
    "X_train = training_data[features]\n",
    "y_train = training_data[\"target\"]\n",
    "X_test = prediction_data[features]\n",
    "ids = prediction_data[\"id\"]"
   ]
  },
  {
   "cell_type": "code",
   "execution_count": 27,
   "metadata": {
    "ExecuteTime": {
     "end_time": "2017-08-16T22:57:11.817738Z",
     "start_time": "2017-08-16T22:57:11.626705Z"
    },
    "collapsed": true
   },
   "outputs": [],
   "source": [
    "automl = autosklearn.classification.AutoSklearnClassifier(time_left_for_this_task=3600,\n",
    "                                                          per_run_time_limit=360,\n",
    "                                                          ensemble_size=50,\n",
    "                                                          ensemble_nbest=50,\n",
    "                                                          ml_memory_limit=15000,\n",
    "                                                          tmp_folder='/tmp/autoslearn_sequential_example_tmp',\n",
    "                                                          output_folder='/tmp/autosklearn_sequential_example_out',\n",
    "                                                          delete_tmp_folder_after_terminate=False,\n",
    "                                                          resampling_strategy='holdout-iterative-fit')"
   ]
  },
  {
   "cell_type": "code",
   "execution_count": 28,
   "metadata": {
    "ExecuteTime": {
     "end_time": "2017-08-16T23:57:22.655496Z",
     "start_time": "2017-08-16T22:57:14.093367Z"
    }
   },
   "outputs": [
    {
     "name": "stderr",
     "output_type": "stream",
     "text": [
      "You are already timing task: index_run16\n",
      "You are already timing task: index_run16\n",
      "You are already timing task: index_run16\n",
      "You are already timing task: index_run16\n",
      "You are already timing task: index_run21\n",
      "You are already timing task: index_run22\n",
      "You are already timing task: index_run22\n",
      "You are already timing task: index_run22\n",
      "You are already timing task: index_run22\n",
      "You are already timing task: index_run22\n"
     ]
    },
    {
     "name": "stdout",
     "output_type": "stream",
     "text": [
      "[(0.940000, MyDummyClassifier(configuration=1, init_params=None, random_state=None)),\n",
      "(0.040000, SimpleClassificationPipeline({'balancing:strategy': 'weighting', 'classifier:__choice__': 'gradient_boosting', 'imputation:strategy': 'mean', 'one_hot_encoding:use_minimum_fraction': 'False', 'preprocessor:__choice__': 'feature_agglomeration', 'rescaling:__choice__': 'standardize', 'classifier:gradient_boosting:learning_rate': 0.042578727957219765, 'classifier:gradient_boosting:loss': 'deviance', 'classifier:gradient_boosting:max_depth': 9, 'classifier:gradient_boosting:max_features': 1.5289316818058862, 'classifier:gradient_boosting:max_leaf_nodes': 'None', 'classifier:gradient_boosting:min_samples_leaf': 2, 'classifier:gradient_boosting:min_samples_split': 4, 'classifier:gradient_boosting:min_weight_fraction_leaf': 0.0, 'classifier:gradient_boosting:n_estimators': 218, 'classifier:gradient_boosting:subsample': 0.4807770453082096, 'preprocessor:feature_agglomeration:affinity': 'manhattan', 'preprocessor:feature_agglomeration:linkage': 'complete', 'preprocessor:feature_agglomeration:n_clusters': 285, 'preprocessor:feature_agglomeration:pooling_func': 'max'},\n",
      "dataset_properties={\n",
      "  'task': 1,\n",
      "  'sparse': False,\n",
      "  'multilabel': False,\n",
      "  'multiclass': False,\n",
      "  'target_type': 'classification',\n",
      "  'signed': False})),\n",
      "(0.020000, SimpleClassificationPipeline({'balancing:strategy': 'none', 'classifier:__choice__': 'gaussian_nb', 'imputation:strategy': 'mean', 'one_hot_encoding:use_minimum_fraction': 'False', 'preprocessor:__choice__': 'feature_agglomeration', 'rescaling:__choice__': 'standardize', 'preprocessor:feature_agglomeration:affinity': 'manhattan', 'preprocessor:feature_agglomeration:linkage': 'complete', 'preprocessor:feature_agglomeration:n_clusters': 298, 'preprocessor:feature_agglomeration:pooling_func': 'max'},\n",
      "dataset_properties={\n",
      "  'task': 1,\n",
      "  'sparse': False,\n",
      "  'multilabel': False,\n",
      "  'multiclass': False,\n",
      "  'target_type': 'classification',\n",
      "  'signed': False})),\n",
      "]\n"
     ]
    }
   ],
   "source": [
    "automl.fit(X_train, y_train)\n",
    "automl.fit_ensemble(y_train, ensemble_size=50)\n",
    "print(automl.show_models())"
   ]
  },
  {
   "cell_type": "code",
   "execution_count": 29,
   "metadata": {
    "ExecuteTime": {
     "end_time": "2017-08-16T23:57:41.760414Z",
     "start_time": "2017-08-16T23:57:22.658355Z"
    }
   },
   "outputs": [
    {
     "name": "stdout",
     "output_type": "stream",
     "text": [
      "auto-sklearn results:\n",
      "  Dataset name: 5992529af2398b12f96bdfe313afc7ce\n",
      "  Metric: accuracy\n",
      "  Best validation score: 0.509784\n",
      "  Number of target algorithm runs: 14\n",
      "  Number of successful target algorithm runs: 0\n",
      "  Number of crashed target algorithm runs: 0\n",
      "  Number of target algorithms that exceeded the memory limit: 0\n",
      "  Number of target algorithms that exceeded the time limit: 0\n",
      "\n"
     ]
    }
   ],
   "source": [
    "y_predict = automl.predict_proba(X_test)\n",
    "print(automl.sprint_statistics())"
   ]
  },
  {
   "cell_type": "code",
   "execution_count": 30,
   "metadata": {
    "ExecuteTime": {
     "end_time": "2017-08-16T23:57:42.107537Z",
     "start_time": "2017-08-16T23:57:41.763640Z"
    }
   },
   "outputs": [
    {
     "name": "stdout",
     "output_type": "stream",
     "text": [
      "Writing predictions to predictions.csv\n"
     ]
    }
   ],
   "source": [
    "results = y_predict[:, 1]\n",
    "results_df = pd.DataFrame(data={'probability':results})\n",
    "joined = pd.DataFrame(ids).join(results_df)\n",
    "\n",
    "print(\"Writing predictions to predictions.csv\")\n",
    "# Save the predictions out to a CSV file\n",
    "joined.to_csv(numerai_dir+\"/predictions.csv\", index=False)\n",
    "# Now you can upload these predictions on numer.ai"
   ]
  },
  {
   "cell_type": "code",
   "execution_count": 31,
   "metadata": {
    "ExecuteTime": {
     "end_time": "2017-08-16T23:57:49.351594Z",
     "start_time": "2017-08-16T23:57:42.110388Z"
    },
    "collapsed": true
   },
   "outputs": [],
   "source": [
    "napi = NumerAPI()\n",
    "napi.credentials = ('sanzgiri@gmail.com', 'xxxxxxxx')\n",
    "upld = napi.upload_prediction(numerai_dir+\"/predictions.csv\")\n",
    "if (upld != 200):\n",
    "    print(\"Error uploading predictions\")"
   ]
  },
  {
   "cell_type": "code",
   "execution_count": 32,
   "metadata": {
    "ExecuteTime": {
     "end_time": "2017-08-17T14:44:56.329481Z",
     "start_time": "2017-08-17T14:44:56.308685Z"
    },
    "collapsed": true
   },
   "outputs": [],
   "source": [
    "automl = autosklearn.classification.AutoSklearnClassifier(time_left_for_this_task=7200,\n",
    "                                                          per_run_time_limit=720,\n",
    "                                                          ensemble_size=100,\n",
    "                                                          ensemble_nbest=100,\n",
    "                                                          ml_memory_limit=15000,\n",
    "                                                          tmp_folder='/tmp/autoslearn_sequential_example_tmp',\n",
    "                                                          output_folder='/tmp/autosklearn_sequential_example_out',\n",
    "                                                          delete_tmp_folder_after_terminate=False,\n",
    "                                                          resampling_strategy='holdout-iterative-fit')"
   ]
  },
  {
   "cell_type": "code",
   "execution_count": 33,
   "metadata": {
    "ExecuteTime": {
     "end_time": "2017-08-17T16:45:11.078784Z",
     "start_time": "2017-08-17T14:44:56.857614Z"
    }
   },
   "outputs": [
    {
     "name": "stderr",
     "output_type": "stream",
     "text": [
      "You are already timing task: index_run14\n",
      "You are already timing task: index_run18\n",
      "You are already timing task: index_run18\n",
      "You are already timing task: index_run18\n",
      "You are already timing task: index_run18\n",
      "You are already timing task: index_run18\n",
      "You are already timing task: index_run18\n",
      "You are already timing task: index_run20\n",
      "You are already timing task: index_run20\n",
      "You are already timing task: index_run22\n",
      "You are already timing task: index_run22\n",
      "You are already timing task: index_run22\n",
      "You are already timing task: index_run22\n",
      "You are already timing task: index_run22\n",
      "You are already timing task: index_run22\n",
      "You are already timing task: index_run25\n",
      "You are already timing task: index_run25\n",
      "You are already timing task: index_run25\n",
      "You are already timing task: index_run29\n",
      "You are already timing task: index_run29\n",
      "You are already timing task: index_run29\n"
     ]
    },
    {
     "name": "stdout",
     "output_type": "stream",
     "text": [
      "[(0.960000, MyDummyClassifier(configuration=1, init_params=None, random_state=None)),\n",
      "(0.030000, SimpleClassificationPipeline({'balancing:strategy': 'none', 'classifier:__choice__': 'adaboost', 'imputation:strategy': 'mean', 'one_hot_encoding:use_minimum_fraction': 'True', 'preprocessor:__choice__': 'feature_agglomeration', 'rescaling:__choice__': 'none', 'classifier:adaboost:algorithm': 'SAMME', 'classifier:adaboost:learning_rate': 1.1145892870034408, 'classifier:adaboost:max_depth': 5, 'classifier:adaboost:n_estimators': 354, 'one_hot_encoding:minimum_fraction': 0.001119064659211796, 'preprocessor:feature_agglomeration:affinity': 'euclidean', 'preprocessor:feature_agglomeration:linkage': 'ward', 'preprocessor:feature_agglomeration:n_clusters': 25, 'preprocessor:feature_agglomeration:pooling_func': 'mean'},\n",
      "dataset_properties={\n",
      "  'task': 1,\n",
      "  'sparse': False,\n",
      "  'multilabel': False,\n",
      "  'multiclass': False,\n",
      "  'target_type': 'classification',\n",
      "  'signed': False})),\n",
      "(0.010000, SimpleClassificationPipeline({'balancing:strategy': 'none', 'classifier:__choice__': 'liblinear_svc', 'imputation:strategy': 'median', 'one_hot_encoding:use_minimum_fraction': 'False', 'preprocessor:__choice__': 'kitchen_sinks', 'rescaling:__choice__': 'none', 'classifier:liblinear_svc:C': 1.0, 'classifier:liblinear_svc:dual': 'False', 'classifier:liblinear_svc:fit_intercept': 'True', 'classifier:liblinear_svc:intercept_scaling': 1, 'classifier:liblinear_svc:loss': 'squared_hinge', 'classifier:liblinear_svc:multi_class': 'ovr', 'classifier:liblinear_svc:penalty': 'l2', 'classifier:liblinear_svc:tol': 0.00010000000000000009, 'preprocessor:kitchen_sinks:gamma': 0.8655052483233905, 'preprocessor:kitchen_sinks:n_components': 4495},\n",
      "dataset_properties={\n",
      "  'task': 1,\n",
      "  'sparse': False,\n",
      "  'multilabel': False,\n",
      "  'multiclass': False,\n",
      "  'target_type': 'classification',\n",
      "  'signed': False})),\n",
      "]\n"
     ]
    }
   ],
   "source": [
    "automl.fit(X_train, y_train)\n",
    "automl.fit_ensemble(y_train, ensemble_size=100)\n",
    "print(automl.show_models())"
   ]
  },
  {
   "cell_type": "code",
   "execution_count": 34,
   "metadata": {
    "ExecuteTime": {
     "end_time": "2017-08-17T16:46:06.455234Z",
     "start_time": "2017-08-17T16:45:11.081441Z"
    }
   },
   "outputs": [
    {
     "name": "stdout",
     "output_type": "stream",
     "text": [
      "auto-sklearn results:\n",
      "  Dataset name: 5992529af2398b12f96bdfe313afc7ce\n",
      "  Metric: accuracy\n",
      "  Best validation score: 0.516297\n",
      "  Number of target algorithm runs: 18\n",
      "  Number of successful target algorithm runs: 0\n",
      "  Number of crashed target algorithm runs: 0\n",
      "  Number of target algorithms that exceeded the memory limit: 0\n",
      "  Number of target algorithms that exceeded the time limit: 0\n",
      "\n",
      "Writing predictions to predictions.csv\n"
     ]
    }
   ],
   "source": [
    "y_predict = automl.predict_proba(X_test)\n",
    "print(automl.sprint_statistics())\n",
    "\n",
    "results = y_predict[:, 1]\n",
    "results_df = pd.DataFrame(data={'probability':results})\n",
    "joined = pd.DataFrame(ids).join(results_df)\n",
    "\n",
    "print(\"Writing predictions to predictions.csv\")\n",
    "# Save the predictions out to a CSV file\n",
    "joined.to_csv(numerai_dir+\"/predictions.csv\", index=False)\n",
    "# Now you can upload these predictions on numer.ai\n",
    "\n",
    "#napi = NumerAPI()\n",
    "napi.credentials = ('sanzgiri@hotmail.com', 'xxxxxxx')\n",
    "upld = napi.upload_prediction(numerai_dir+\"/predictions.csv\")\n",
    "if (upld != 200):\n",
    "    print(\"Error uploading predictions\")"
   ]
  },
  {
   "cell_type": "code",
   "execution_count": null,
   "metadata": {
    "collapsed": true
   },
   "outputs": [],
   "source": []
  },
  {
   "cell_type": "code",
   "execution_count": null,
   "metadata": {
    "collapsed": true
   },
   "outputs": [],
   "source": []
  }
 ],
 "metadata": {
  "hide_input": false,
  "kernelspec": {
   "display_name": "Python 3",
   "language": "python",
   "name": "python3"
  },
  "language_info": {
   "codemirror_mode": {
    "name": "ipython",
    "version": 3
   },
   "file_extension": ".py",
   "mimetype": "text/x-python",
   "name": "python",
   "nbconvert_exporter": "python",
   "pygments_lexer": "ipython3",
   "version": "3.6.1"
  }
 },
 "nbformat": 4,
 "nbformat_minor": 2
}
